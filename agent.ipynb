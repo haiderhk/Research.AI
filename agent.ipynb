{
 "cells": [
  {
   "cell_type": "code",
   "execution_count": 162,
   "metadata": {},
   "outputs": [],
   "source": [
    "from IPython.display import Image, display\n",
    "from pydantic import BaseModel, Field\n",
    "from typing import List, Annotated, TypedDict\n",
    "from langchain_core.messages import SystemMessage, HumanMessage\n",
    "from langgraph.graph import START, END, MessagesState, StateGraph\n",
    "from langchain_openai import ChatOpenAI"
   ]
  },
  {
   "cell_type": "code",
   "execution_count": 163,
   "metadata": {},
   "outputs": [],
   "source": [
    "from langchain_groq import ChatGroq\n",
    "from dotenv import load_dotenv\n",
    "load_dotenv()\n",
    "\n",
    "model = ChatGroq(model=\"llama-3.3-70b-versatile\", temperature=0.5)\n",
    "# model = ChatOpenAI(model = \"gpt-4o-mini\", temperature=0.5)"
   ]
  },
  {
   "cell_type": "markdown",
   "metadata": {},
   "source": [
    "## **Defining the Schemas**"
   ]
  },
  {
   "cell_type": "code",
   "execution_count": 164,
   "metadata": {},
   "outputs": [],
   "source": [
    "#This class will be for the technical questions and data retrieval from Arxiv Pinecone.\n",
    "class Researcher(BaseModel):\n",
    "    name: str = Field(description=\"The name of the researcher.\")\n",
    "    area_of_research: str = Field(description=\"The area of research of the researcher.\")\n",
    "    field_of_study: str = Field(description=\"The academic or professional field the researcher specializes in.\")\n",
    "\n",
    "    @property\n",
    "    def persona(self) -> str:\n",
    "        return f\"Researcher Name: {self.name}\\nArea of Research: {self.area_of_research}\\nField of Study: {self.field_of_study}\\n\"\n",
    "\n",
    "\n",
    "#This class will be responsible for the Web search looking for how the web has reacted to the research.\n",
    "class Assistant(BaseModel):\n",
    "    name: str = Field(description=\"The name of the assistant.\")\n",
    "    skills: List[str] = Field(description=\"A list of skills the assistant possesses.\")\n",
    "    tasks: List[str] = Field(description=\"The list of tasks assigned to the assistant by their supervisor.\")\n",
    "\n",
    "    @property\n",
    "    def persona(self) -> str:\n",
    "        return f\"Assistant Name: {self.name}\\nAssistant Skills: {self.skills}\\nTasks Assigned: {self.tasks}\\n\"\n",
    "\n",
    "\n",
    "class ArxivQuery(BaseModel):\n",
    "    arxiv_query: str = Field(description=\"The search query to retrieve research papers from Arxiv.\")\n",
    "\n",
    "\n",
    "class SearchQuery(BaseModel):\n",
    "    search_query: str = Field(description=\"Search query for retrieval.\")"
   ]
  },
  {
   "cell_type": "code",
   "execution_count": 165,
   "metadata": {},
   "outputs": [],
   "source": [
    "class GeneratePersonas(BaseModel):\n",
    "    researcher: Researcher\n",
    "    assistant: Assistant\n",
    "\n",
    "\n",
    "class OverallState(TypedDict):\n",
    "    researcher: Researcher\n",
    "    assistant: Assistant\n",
    "    topic: str\n",
    "    arxiv_query: str\n",
    "    search_query: str # To be replaced with the results of the web search!"
   ]
  },
  {
   "cell_type": "markdown",
   "metadata": {},
   "source": [
    "# **Graph**"
   ]
  },
  {
   "cell_type": "markdown",
   "metadata": {},
   "source": [
    "## Generate Research & Assistant"
   ]
  },
  {
   "cell_type": "markdown",
   "metadata": {},
   "source": [
    "#### Nodes"
   ]
  },
  {
   "cell_type": "code",
   "execution_count": 166,
   "metadata": {},
   "outputs": [],
   "source": [
    "#Creating the Researcher and Analyst\n",
    "generate_personas_prompt = \"\"\"\n",
    "You are tasked with generating two personas:\n",
    "\n",
    "1. A persona for an expert researcher undergoing research in a specific topic.\n",
    "\n",
    "2. A persona for an the assistant which assists the expert researcher by gathering non-technical, external information related to the research topic.\n",
    "\n",
    "The topic of the research currently undergoing is: {topic}\n",
    "\"\"\"\n",
    "\n",
    "\n",
    "def generate_personas(state: OverallState):\n",
    "    print(state[\"topic\"])\n",
    "    sys_msg = generate_personas_prompt.format(topic = state[\"topic\"])\n",
    "    llm = model.with_structured_output(GeneratePersonas)\n",
    "\n",
    "    response = llm.invoke([SystemMessage(content = sys_msg)] + [HumanMessage(content = \"Generate the researcher and their assistant.\")])\n",
    "\n",
    "    print(f\"Researcher: {response.researcher}\\n----------\\nAssistant: {response.assistant}\")\n",
    "\n",
    "    return {\n",
    "        \"researcher\": response.researcher,\n",
    "        \"assistant\": response.assistant\n",
    "    }"
   ]
  },
  {
   "cell_type": "markdown",
   "metadata": {},
   "source": [
    "#### Researcher and VectorDB Interaction Graph"
   ]
  },
  {
   "cell_type": "code",
   "execution_count": 167,
   "metadata": {},
   "outputs": [],
   "source": [
    "arxiv_query_prompt = \"\"\"\n",
    "You are an expert researcher given a topic for research. Your goal is to perform a literature review of the existing research related to the topic by generating a well-structured search query for retrieving relevant research papers from arxiv.\n",
    "\n",
    "Here's your persona:\n",
    "{persona}\n",
    "\"\"\"\n",
    "\n",
    "search_web_prompt = \"\"\"\n",
    "You are an assistant to an expert researcher. Your task is to gather extra, non-technical information about the research topic which you think might help in a better research.\n",
    "\n",
    "Your goal is to generate a well-structured query for use in retrieval and / or web-search related to the research topic.\n",
    "\n",
    "Here's your persona:\n",
    "{persona}\n",
    "\"\"\"\n",
    "\n",
    "def generate_arxiv_query(state: OverallState):\n",
    "    structured_llm = model.with_structured_output(ArxivQuery)\n",
    "\n",
    "    sys_msg = arxiv_query_prompt.format(persona = state['researcher'].persona)\n",
    "\n",
    "    arxiv_query = structured_llm.invoke([SystemMessage(sys_msg)] + [HumanMessage(content = f\"Topic of research:\\n {state['topic']}\")])\n",
    "\n",
    "    print(f\"Query for Arxiv: {arxiv_query.arxiv_query}\\n\")\n",
    "\n",
    "    return {\"arxiv_query\": arxiv_query.arxiv_query}\n",
    "\n",
    "\n",
    "def search_web(state: OverallState):\n",
    "    system_message = search_web_prompt.format(persona = state['assistant'].persona)\n",
    "\n",
    "    llm = model.with_structured_output(SearchQuery)\n",
    "    query = llm.invoke([SystemMessage(content = system_message)] + [HumanMessage(content= f\"Generate the search query for retrieval.\")])\n",
    "\n",
    "    print(query)\n",
    "\n",
    "    return {\"search_query\": query.search_query}\n",
    "    "
   ]
  },
  {
   "cell_type": "code",
   "execution_count": 168,
   "metadata": {},
   "outputs": [
    {
     "data": {
      "image/png": "[encoded data removed]",
      "text/plain": [
       "<IPython.core.display.Image object>"
      ]
     },
     "metadata": {},
     "output_type": "display_data"
    }
   ],
   "source": [
    "builder = StateGraph(OverallState)\n",
    "builder.add_node(\"personas\", generate_personas)\n",
    "builder.add_node(\"arxiv\", generate_arxiv_query)\n",
    "builder.add_node(\"search\", search_web)\n",
    "\n",
    "builder.add_edge(START, \"personas\")\n",
    "builder.add_edge(\"personas\", \"arxiv\")\n",
    "builder.add_edge(\"arxiv\", \"search\")\n",
    "builder.add_edge('search', END)\n",
    "\n",
    "graph = builder.compile()\n",
    "\n",
    "# View\n",
    "display(Image(graph.get_graph(xray=1).draw_mermaid_png()))"
   ]
  },
  {
   "cell_type": "code",
   "execution_count": 169,
   "metadata": {},
   "outputs": [
    {
     "name": "stdout",
     "output_type": "stream",
     "text": [
      "DeepSeek AI\n",
      "Researcher: name='Dr. Rachel Kim' area_of_research='DeepSeek AI' field_of_study='Artificial Intelligence'\n",
      "----------\n",
      "Assistant: name='Alex Chen' skills=['Data Collection', 'Information Gathering', 'Research Assistance'] tasks=['Gather non-technical information on DeepSeek AI', 'Conduct market research on AI trends', 'Assist Dr. Kim with research-related tasks']\n",
      "Query for Arxiv: DeepSeek AI\n",
      "\n",
      "search_query='latest news and trends on DeepSeek AI and its applications'\n"
     ]
    },
    {
     "data": {
      "text/plain": [
       "{'researcher': Researcher(name='Dr. Rachel Kim', area_of_research='DeepSeek AI', field_of_study='Artificial Intelligence'),\n",
       " 'assistant': Assistant(name='Alex Chen', skills=['Data Collection', 'Information Gathering', 'Research Assistance'], tasks=['Gather non-technical information on DeepSeek AI', 'Conduct market research on AI trends', 'Assist Dr. Kim with research-related tasks']),\n",
       " 'topic': 'DeepSeek AI',\n",
       " 'arxiv_query': 'DeepSeek AI',\n",
       " 'search_query': 'latest news and trends on DeepSeek AI and its applications'}"
      ]
     },
     "execution_count": 169,
     "metadata": {},
     "output_type": "execute_result"
    }
   ],
   "source": [
    "graph.invoke({\"topic\": \"DeepSeek AI\"})"
   ]
  },
  {
   "cell_type": "code",
   "execution_count": null,
   "metadata": {},
   "outputs": [],
   "source": []
  }
 ],
 "metadata": {
  "kernelspec": {
   "display_name": "venv",
   "language": "python",
   "name": "python3"
  },
  "language_info": {
   "codemirror_mode": {
    "name": "ipython",
    "version": 3
   },
   "file_extension": ".py",
   "mimetype": "text/x-python",
   "name": "python",
   "nbconvert_exporter": "python",
   "pygments_lexer": "ipython3",
   "version": "3.12.4"
  }
 },
 "nbformat": 4,
 "nbformat_minor": 2
}
