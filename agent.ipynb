{
 "cells": [
  {
   "cell_type": "code",
   "execution_count": 37,
   "metadata": {},
   "outputs": [],
   "source": [
    "from IPython.display import Image, display\n",
    "from pydantic import BaseModel, Field\n",
    "from typing import List, Annotated, TypedDict\n",
    "from langchain_core.messages import SystemMessage, HumanMessage\n",
    "from langgraph.graph import START, END, MessagesState, StateGraph"
   ]
  },
  {
   "cell_type": "code",
   "execution_count": 17,
   "metadata": {},
   "outputs": [],
   "source": [
    "from langchain_groq import ChatGroq\n",
    "from dotenv import load_dotenv\n",
    "load_dotenv()\n",
    "\n",
    "model = ChatGroq(model=\"llama-3.3-70b-versatile\", temperature=0.5)"
   ]
  },
  {
   "cell_type": "markdown",
   "metadata": {},
   "source": [
    "## **Defining the Schemas**"
   ]
  },
  {
   "cell_type": "code",
   "execution_count": 43,
   "metadata": {},
   "outputs": [],
   "source": [
    "#This class will be for the technical questions and data retrieval from Arxiv Pinecone.\n",
    "class Researcher(BaseModel):\n",
    "    name: str = Field(description=\"The name of the researcher.\")\n",
    "    area_of_research: str = Field(description=\"The area of research of the researcher.\")\n",
    "    field_of_study: str = Field(description=\"The academic or professional field the researcher specializes in.\")\n",
    "\n",
    "    @property\n",
    "    def persona(self) -> str:\n",
    "        return f\"Researcher Name: {self.name}\\nArea of Research: {self.area_of_research}\\nResearcher Affiliation: {self.affiliation}\\n\"\n",
    "\n",
    "\n",
    "#This class will be responsible for the Web search looking for how the web has reacted to the research.\n",
    "class Assistant(BaseModel):\n",
    "    name: str = Field(description=\"The name of the assistant.\")\n",
    "    skills: List[str] = Field(description=\"A list of skills the assistant possesses.\")\n",
    "    tasks: List[str] = Field(\"The list of tasks assigned to the assistant by their supervisor.\")\n",
    "\n",
    "    @property\n",
    "    def persona(self) -> str:\n",
    "        return f\"Assistant Name: {self.name}\\Assistant Skills: {self.skills}\\nTasks Assigned: {self.tasks}\\n\"\n",
    "\n",
    "\n",
    "class QueryArxivState(BaseModel):\n",
    "    query: str = Field(description=\"The search query to retrieve research papers from Arxiv.\")\n",
    "    extra_information: str = Field(description=\"Extra, non-technical, information that will be required to further improve research.\")\n",
    "\n",
    "\n",
    "class SearchQuery(BaseModel):\n",
    "    search_query: str = Field(None, description=\"Search query for retrieval.\")"
   ]
  },
  {
   "cell_type": "code",
   "execution_count": null,
   "metadata": {},
   "outputs": [],
   "source": [
    "class GeneratePersonas(TypedDict):\n",
    "    researcher: Researcher\n",
    "    assistant: Assistant\n",
    "\n",
    "\n",
    "class OverallState(TypedDict):\n",
    "    researcher: Researcher\n",
    "    assistant: Assistant\n",
    "    topic: str\n",
    "    query: str\n",
    "    extra_information: str\n",
    "    search_query: str # To be replaced with the results of the web search!"
   ]
  },
  {
   "cell_type": "markdown",
   "metadata": {},
   "source": [
    "# **Graph**"
   ]
  },
  {
   "cell_type": "markdown",
   "metadata": {},
   "source": [
    "### Nodes"
   ]
  },
  {
   "cell_type": "code",
   "execution_count": 45,
   "metadata": {},
   "outputs": [
    {
     "name": "stdout",
     "output_type": "stream",
     "text": [
      "researcher=Researcher(name='Dr. Rachel Kim', area_of_research='Deep Learning based Lane Detection Systems', affiliation='Stanford University') analyst=Analyst(name='John Lee', affiliation='MIT Consulting', area_of_expertise='Transportation Systems')\n"
     ]
    },
    {
     "data": {
      "text/plain": [
       "{'researcher': Researcher(name='Dr. Rachel Kim', area_of_research='Deep Learning based Lane Detection Systems', affiliation='Stanford University'),\n",
       " 'analyst': Analyst(name='John Lee', affiliation='MIT Consulting', area_of_expertise='Transportation Systems')}"
      ]
     },
     "execution_count": 45,
     "metadata": {},
     "output_type": "execute_result"
    }
   ],
   "source": [
    "#Creating the Researcher and Analyst\n",
    "generate_personas_prompt = \"\"\"\n",
    "You are tasked with generating two personas:\n",
    "\n",
    "1. A persona for an expert researcher undergoing research in a specific topic.\n",
    "\n",
    "2. A persona for an analyst which assists the expert researcher by gathering non-technical, external information related to the research topic.\n",
    "\n",
    "The topic of the research currently undergoing is: {topic}\n",
    "\"\"\"\n",
    "\n",
    "\n",
    "def generate_personas(state: OverallState):\n",
    "    \n",
    "    sys_msg = generate_personas_prompt.format(topic = state[\"topic\"])\n",
    "    llm = model.with_structured_output(GeneratePersonas)\n",
    "\n",
    "    response = llm.invoke([SystemMessage(content = sys_msg)] + [HumanMessage(content = \"Generate the researcher and the analyst\")])\n",
    "\n",
    "    print(response)\n",
    "\n",
    "    return {\n",
    "        \"researcher\": response.researcher,\n",
    "        \"analyst\": response.analyst\n",
    "    }"
   ]
  },
  {
   "cell_type": "code",
   "execution_count": 46,
   "metadata": {},
   "outputs": [],
   "source": [
    "arxiv_query_prompt = \"\"\"\n",
    "You are an expert researcher given a topic for research. Your goal is to perform a literature review of the existing research related to the topic by generating a well-structured search query for retrieving relevant research papers from arxiv.\n",
    "\n",
    "Here's your area of research and affiliation:\n",
    "{persona}\n",
    "\"\"\"\n",
    "\n",
    "search_web_prompt = \"\"\"\n",
    "You are assistant to an expert researcher who gathers extra non-technical information about a research topic. The researcher will provide you with extra information based on which you have to create a web search query to search the web.\n",
    "\n",
    "Here's your area of expertise:\n",
    "{persona}\n",
    "\n",
    "\n",
    "Pay careful attention to the information required by your researcher and generate a web search query accordingly.\n",
    "\"\"\"\n",
    "\n",
    "def generate_arxiv_query(state: OverallState):\n",
    "    structured_llm = model.with_structured_output(QueryArxivState)\n",
    "\n",
    "    query = structured_llm.invoke([SystemMessage(content = arxiv_query_prompt)] + [HumanMessage(content = state['topic'])])\n",
    "\n",
    "    print(query)\n",
    "\n",
    "    return {\"query\": query.query, \"extra_information\": query.extra_information}\n",
    "\n",
    "\n",
    "def search_web(state: OverallState):\n",
    "    system_message = search_web_prompt.format(topic = state['topic'])\n",
    "\n",
    "    llm = model.with_structured_output(SearchQuery)\n",
    "    query = llm.invoke([SystemMessage(content = system_message)] + [HumanMessage(content= f\"The extra information required: {state['extra_information']}\")])\n",
    "\n",
    "    print(query)\n",
    "\n",
    "    return {\"search_query\": query.search_query}\n",
    "    "
   ]
  },
  {
   "cell_type": "code",
   "execution_count": 40,
   "metadata": {},
   "outputs": [
    {
     "data": {
      "image/png": "[encoded data removed]",
      "text/plain": [
       "<IPython.core.display.Image object>"
      ]
     },
     "metadata": {},
     "output_type": "display_data"
    }
   ],
   "source": [
    "builder = StateGraph(OverallState)\n",
    "builder.add_node(\"arxiv\", generate_arxiv_query)\n",
    "builder.add_node(\"search\", search_web)\n",
    "\n",
    "builder.add_edge(START, \"arxiv\")\n",
    "builder.add_edge(\"arxiv\", \"search\")\n",
    "builder.add_edge('search', END)\n",
    "\n",
    "graph = builder.compile()\n",
    "\n",
    "# View\n",
    "display(Image(graph.get_graph(xray=1).draw_mermaid_png()))"
   ]
  },
  {
   "cell_type": "code",
   "execution_count": 41,
   "metadata": {},
   "outputs": [
    {
     "name": "stdout",
     "output_type": "stream",
     "text": [
      "query='reasoning models' extra_information='current applications, future prospects, and potential challenges of reasoning models in various fields such as artificial intelligence, machine learning, and cognitive science.'\n",
      "search_query='current applications and future prospects of reasoning models in artificial intelligence, machine learning, and cognitive science, potential challenges and limitations'\n"
     ]
    },
    {
     "data": {
      "text/plain": [
       "{'topic': 'Reasoning models',\n",
       " 'query': 'reasoning models',\n",
       " 'extra_information': 'current applications, future prospects, and potential challenges of reasoning models in various fields such as artificial intelligence, machine learning, and cognitive science.',\n",
       " 'search_query': 'current applications and future prospects of reasoning models in artificial intelligence, machine learning, and cognitive science, potential challenges and limitations'}"
      ]
     },
     "execution_count": 41,
     "metadata": {},
     "output_type": "execute_result"
    }
   ],
   "source": [
    "graph.invoke({\"topic\": \"Reasoning models\"})"
   ]
  },
  {
   "cell_type": "code",
   "execution_count": null,
   "metadata": {},
   "outputs": [],
   "source": []
  }
 ],
 "metadata": {
  "kernelspec": {
   "display_name": "venv",
   "language": "python",
   "name": "python3"
  },
  "language_info": {
   "codemirror_mode": {
    "name": "ipython",
    "version": 3
   },
   "file_extension": ".py",
   "mimetype": "text/x-python",
   "name": "python",
   "nbconvert_exporter": "python",
   "pygments_lexer": "ipython3",
   "version": "3.12.4"
  }
 },
 "nbformat": 4,
 "nbformat_minor": 2
}
